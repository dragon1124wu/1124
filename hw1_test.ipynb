{
  "nbformat": 4,
  "nbformat_minor": 0,
  "metadata": {
    "colab": {
      "provenance": [],
      "authorship_tag": "ABX9TyObwRvLqGe4SDecaE66j7Wq",
      "include_colab_link": true
    },
    "kernelspec": {
      "name": "python3",
      "display_name": "Python 3"
    },
    "language_info": {
      "name": "python"
    }
  },
  "cells": [
    {
      "cell_type": "markdown",
      "metadata": {
        "id": "view-in-github",
        "colab_type": "text"
      },
      "source": [
        "<a href=\"https://colab.research.google.com/github/dragon1124wu/1124/blob/main/hw1_test.ipynb\" target=\"_parent\"><img src=\"https://colab.research.google.com/assets/colab-badge.svg\" alt=\"Open In Colab\"/></a>"
      ]
    },
    {
      "cell_type": "code",
      "execution_count": 5,
      "metadata": {
        "id": "a6wg4EdInSXq"
      },
      "outputs": [],
      "source": [
        "def get_grade(score):\n",
        "  if not isinstance(score,(int,float)):\n",
        "    return\"非數字無法處理\"\n",
        "  if 90<=score<=100:\n",
        "    return\"A+\"\n",
        "  elif 85<=score<90:\n",
        "    return\"A\"\n",
        "  elif 80<=score<85:\n",
        "    return\"A-\"\n",
        "  elif 75<=score<80:\n",
        "    return\"B+\"\n",
        "  elif 70<=score<75:\n",
        "    return\"B\"\n",
        "  elif 65<=score<70:\n",
        "    return\"B-\"\n",
        "  elif 60<=score<65:\n",
        "    return\"C+\"\n",
        "  elif score<60:\n",
        "    return\"F\"\n",
        "  else :\n",
        "    return \"輸入錯誤\"\n",
        "\n"
      ]
    },
    {
      "cell_type": "code",
      "source": [
        "try:\n",
        "  score=input(\"請輸入整數\")\n",
        "  score=int(score)\n",
        "  response=get_grade(score)\n",
        "  print(f\"你的等第是{response}。\")\n",
        "except ValueError:\n",
        "  print(\"輸入錯誤重新輸入\")\n"
      ],
      "metadata": {
        "colab": {
          "base_uri": "https://localhost:8080/"
        },
        "id": "AjnAtzviqSLI",
        "outputId": "570a37c6-df67-478d-b9b0-f42724e036e1"
      },
      "execution_count": 6,
      "outputs": [
        {
          "output_type": "stream",
          "name": "stdout",
          "text": [
            "請輸入整數5\n",
            "你的等第是F。\n"
          ]
        }
      ]
    }
  ]
}